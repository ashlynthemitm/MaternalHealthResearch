{
 "cells": [
  {
   "cell_type": "code",
   "execution_count": null,
   "id": "4efc2fde-43f3-4659-88ec-524310a1cb5b",
   "metadata": {},
   "outputs": [],
   "source": [
    "# imports\n",
    "import pandas as pd\n",
    "import csv"
   ]
  },
  {
   "cell_type": "markdown",
   "id": "f44f773b",
   "metadata": {},
   "source": [
    "Phase 1 - Data Preprocessing \n",
    "1. Create Combination of Data for HeartRate to detect activity imbalances\n",
    "2. Create ManualInput Dataset \n",
    "3. Clean all datasets\n"
   ]
  },
  {
   "cell_type": "code",
   "execution_count": null,
   "id": "5a58e6dc",
   "metadata": {},
   "outputs": [],
   "source": [
    "def CreateHeartRateDataset(filename):\n",
    "    # create new dataframe to return for heartrate\n",
    "    df_HR = pd.DataFrame()\n",
    "    \n",
    "    # read the heart rate (HR) & mets dataset\n",
    "    mets_file = open('predictive-model/data_raw/RAW-Fitabase Data 4.12.16-5.12.16/minuteMETsNarrow_merged.csv')\n",
    "    heartrate_file = open('predictive-model/data_raw/RAW-Fitabase Data 4.12.16-5.12.16/heartrate_seconds_merged.csv')\n",
    "    \n",
    "    # combine these datasets and normalize the METS dataset (Complete Tomorrow during CC)\n",
    "    \n",
    "\n"
   ]
  }
 ],
 "metadata": {
  "kernelspec": {
   "display_name": "Python 3 (ipykernel)",
   "language": "python",
   "name": "python3"
  },
  "language_info": {
   "codemirror_mode": {
    "name": "ipython",
    "version": 3
   },
   "file_extension": ".py",
   "mimetype": "text/x-python",
   "name": "python",
   "nbconvert_exporter": "python",
   "pygments_lexer": "ipython3",
   "version": "3.11.4"
  }
 },
 "nbformat": 4,
 "nbformat_minor": 5
}
