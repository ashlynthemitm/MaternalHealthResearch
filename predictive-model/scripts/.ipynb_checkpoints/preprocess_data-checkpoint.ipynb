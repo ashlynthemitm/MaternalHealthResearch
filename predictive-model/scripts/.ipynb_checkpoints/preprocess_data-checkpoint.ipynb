{
 "cells": [
  {
   "cell_type": "code",
   "execution_count": null,
   "id": "4efc2fde-43f3-4659-88ec-524310a1cb5b",
   "metadata": {},
   "outputs": [],
   "source": [
    "# imports\n",
    "import pandas as pd\n",
    "from pandas import DataFrame, Series\n",
    "import numpy as np\n",
    "from sklearn import preprocessing\n",
    "from sklearn.impute import SimpleImputer\n",
    "import matplotlib.pyplot as plt\n",
    "import seaborn as sns\n",
    "from scipy.stats import zscore\n",
    "import csv"
   ]
  },
  {
   "cell_type": "markdown",
   "id": "a1c6215c-1db2-4156-9f69-41c2c8323a8e",
   "metadata": {},
   "source": [
    "Plan of Action (Preprocess Data)\n",
    "(Find Data Documentation for these sets for unit of measurement)\n",
    "Important Attributes\n",
    "- dailyActivity - Id, ActivityDate, TotalSteps, TotalDistance, TrackerDistance, LoggedActivitiesDistance, VeryActiveDistance, ModeratelyActiveDistance, LightActiveDistance, SedentaryActiveDistance, VeryActiveMinutes, FairlyActiveMinutes, LightlyActiveMinutes, SedentaryMinutes, Calories\n",
    "    id, activitydate(over 20 days), totalsteps, totaldistance (miles), (all distance metrics), calories\n",
    "- heartRate(seconds) - Id, Time, Value\n",
    "    all \n",
    "- hourlyCalories - Id, ActivityHour, Calories\n",
    "    \n",
    "hourlyIntensities - Id, ActivityHour, TotalIntensity, AverageIntensity \n",
    "hourlySteps - Id, ActivityHour, StepTotal\n",
    "minuteCaloriesNarrow - Id, ActivityMinute, Calories\n",
    "minuteIntensitiesNarrow - Id, ActivityMinute, Intensity\n",
    "minuteMETsNarrow - Id, ActivityMinute, METs\n",
    "minuteSleep - Id, date, value, logId\n",
    "minuteStepsNarrow - Id, ActivityMinute, Steps\n",
    "weightLogInfo - Id, Date, WeightKg, WeightPounds, Fat, BMI, IsManualReport, LogId\n",
    "\n",
    "Generated Data Sets - (Fale Datasets based on the values I would like to receive)\n",
    "additional_constraints - Id, date, Blood Pressure, Symptom_code (list of attached symptoms), glucose, mental_check\n",
    "doctor_visit_history - Id, date, physician_type_code, weight, blood pressure, heart rate, symptom_code, recommendations\n"
   ]
  },
  {
   "cell_type": "code",
   "execution_count": null,
   "id": "2388c144-f3f4-429a-a54a-0f8431697485",
   "metadata": {},
   "outputs": [],
   "source": []
  }
 ],
 "metadata": {
  "kernelspec": {
   "display_name": "Python 3 (ipykernel)",
   "language": "python",
   "name": "python3"
  },
  "language_info": {
   "codemirror_mode": {
    "name": "ipython",
    "version": 3
   },
   "file_extension": ".py",
   "mimetype": "text/x-python",
   "name": "python",
   "nbconvert_exporter": "python",
   "pygments_lexer": "ipython3",
   "version": "3.11.4"
  }
 },
 "nbformat": 4,
 "nbformat_minor": 5
}
